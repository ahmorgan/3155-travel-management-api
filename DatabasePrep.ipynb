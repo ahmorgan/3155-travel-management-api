{
 "cells": [
  {
   "cell_type": "code",
   "execution_count": 3,
   "id": "a23b3c04-d966-411b-8161-0ea16503a1df",
   "metadata": {},
   "outputs": [
    {
     "name": "stdout",
     "output_type": "stream",
     "text": [
      "Requirement already satisfied: pandas in c:\\users\\uzarn\\anaconda\\lib\\site-packages (2.2.2)\n",
      "Requirement already satisfied: numpy in c:\\users\\uzarn\\anaconda\\lib\\site-packages (1.26.4)\n",
      "Requirement already satisfied: python-dateutil>=2.8.2 in c:\\users\\uzarn\\anaconda\\lib\\site-packages (from pandas) (2.9.0.post0)\n",
      "Requirement already satisfied: pytz>=2020.1 in c:\\users\\uzarn\\anaconda\\lib\\site-packages (from pandas) (2024.1)\n",
      "Requirement already satisfied: tzdata>=2022.7 in c:\\users\\uzarn\\anaconda\\lib\\site-packages (from pandas) (2023.3)\n",
      "Requirement already satisfied: six>=1.5 in c:\\users\\uzarn\\anaconda\\lib\\site-packages (from python-dateutil>=2.8.2->pandas) (1.16.0)\n",
      "Note: you may need to restart the kernel to use updated packages.\n"
     ]
    }
   ],
   "source": [
    "pip install pandas numpy"
   ]
  },
  {
   "cell_type": "code",
   "execution_count": 4,
   "id": "5f865685-b8a5-4b3c-8703-f5f8c84ce345",
   "metadata": {},
   "outputs": [],
   "source": [
    "import pandas as pd\n",
    "\n",
    "df1 = pd.read_csv(\"tourism_dataset.csv\")\n",
    "df2 = pd.read_csv(\"travel_cost.csv\")"
   ]
  },
  {
   "cell_type": "code",
   "execution_count": 5,
   "id": "300856dc-355b-40e3-a773-7273f5b587ed",
   "metadata": {},
   "outputs": [
    {
     "name": "stdout",
     "output_type": "stream",
     "text": [
      "[Tourism Columns]\n",
      "Index(['Location', 'Country', 'Category', 'Visitors', 'Rating', 'Revenue',\n",
      "       'Accommodation_Available'],\n",
      "      dtype='object')\n",
      "------------------------------------------------------------------------------------------------------------------------------------\n",
      "[Travel Cost Columns]\n",
      "Index(['Trip ID', 'Destination', 'Start date', 'End date', 'Duration (days)',\n",
      "       'Traveler name', 'Traveler age', 'Traveler gender',\n",
      "       'Traveler nationality', 'Accommodation type', 'Accommodation cost',\n",
      "       'Transportation type', 'Transportation cost'],\n",
      "      dtype='object')\n"
     ]
    }
   ],
   "source": [
    "print(\"[Tourism Columns]\")\n",
    "print(df1.columns)\n",
    "print(\"------------------------------------------------------------------------------------------------------------------------------------\")\n",
    "print(\"[Travel Cost Columns]\")\n",
    "print(df2.columns)"
   ]
  },
  {
   "cell_type": "code",
   "execution_count": 6,
   "id": "357fb808-4cd6-485d-b77b-3dfb1e798086",
   "metadata": {},
   "outputs": [
    {
     "name": "stdout",
     "output_type": "stream",
     "text": [
      "[Tourism Dataset Head]\n",
      "<bound method NDFrame.head of         Location Country    Category  Visitors  Rating    Revenue  \\\n",
      "0     kuBZRkVsAR   India      Nature    948853    1.32   84388.38   \n",
      "1     aHKUXhjzTo     USA  Historical    813627    2.01  802625.60   \n",
      "2     dlrdYtJFTA  Brazil      Nature    508673    1.42  338777.11   \n",
      "3     DxmlzdGkHK  Brazil  Historical    623329    1.09  295183.60   \n",
      "4     WJCCQlepnz  France    Cultural    124867    1.43  547893.24   \n",
      "...          ...     ...         ...       ...     ...        ...   \n",
      "5984  xAzwnVKAqz     USA       Urban    828137    1.97  132848.78   \n",
      "5985  IfKotyaJFC  France      Nature    276317    3.53  325183.96   \n",
      "5986  bPyubCWGgA   Egypt       Beach    809198    3.37  927336.50   \n",
      "5987  kkWIucpBnu   Egypt    Cultural    808303    2.52  115791.43   \n",
      "5988  gHXUrdticm  France    Cultural     40939    4.65  957026.85   \n",
      "\n",
      "     Accommodation_Available  \n",
      "0                        Yes  \n",
      "1                         No  \n",
      "2                        Yes  \n",
      "3                        Yes  \n",
      "4                         No  \n",
      "...                      ...  \n",
      "5984                      No  \n",
      "5985                     Yes  \n",
      "5986                      No  \n",
      "5987                     Yes  \n",
      "5988                     Yes  \n",
      "\n",
      "[5989 rows x 7 columns]>\n",
      "------------------------------------------------------------------------------------------------------------------------------------\n",
      "[Travel Cost Dataset Head]\n",
      "<bound method NDFrame.head of      Trip ID             Destination Start date   End date  Duration (days)  \\\n",
      "0          1              London, UK   5/1/2023   5/8/2023              7.0   \n",
      "1          2        Phuket, Thailand  6/15/2023  6/20/2023              5.0   \n",
      "2          3         Bali, Indonesia   7/1/2023   7/8/2023              7.0   \n",
      "3          4           New York, USA  8/15/2023  8/29/2023             14.0   \n",
      "4          5            Tokyo, Japan  9/10/2023  9/17/2023              7.0   \n",
      "..       ...                     ...        ...        ...              ...   \n",
      "134      135  Rio de Janeiro, Brazil   8/1/2023  8/10/2023              9.0   \n",
      "135      136       Vancouver, Canada  8/15/2023  8/21/2023              6.0   \n",
      "136      137       Bangkok, Thailand   9/1/2023   9/8/2023              7.0   \n",
      "137      138        Barcelona, Spain  9/15/2023  9/22/2023              7.0   \n",
      "138      139   Auckland, New Zealand  10/1/2023  10/8/2023              7.0   \n",
      "\n",
      "       Traveler name  Traveler age Traveler gender Traveler nationality  \\\n",
      "0         John Smith          35.0            Male             American   \n",
      "1           Jane Doe          28.0          Female             Canadian   \n",
      "2          David Lee          45.0            Male               Korean   \n",
      "3      Sarah Johnson          29.0          Female              British   \n",
      "4         Kim Nguyen          26.0          Female           Vietnamese   \n",
      "..               ...           ...             ...                  ...   \n",
      "134       Jose Perez          37.0            Male            Brazilian   \n",
      "135      Emma Wilson          29.0          Female             Canadian   \n",
      "136        Ryan Chen          34.0            Male              Chinese   \n",
      "137  Sofia Rodriguez          25.0          Female              Spanish   \n",
      "138    William Brown          39.0            Male        New Zealander   \n",
      "\n",
      "    Accommodation type Accommodation cost Transportation type  \\\n",
      "0                Hotel               1200              Flight   \n",
      "1               Resort                800              Flight   \n",
      "2                Villa               1000              Flight   \n",
      "3                Hotel               2000              Flight   \n",
      "4               Airbnb                700               Train   \n",
      "..                 ...                ...                 ...   \n",
      "134             Hostel               2500                 Car   \n",
      "135              Hotel               5000            Airplane   \n",
      "136             Hostel               2000               Train   \n",
      "137             Airbnb               6000            Airplane   \n",
      "138              Hotel               7000               Train   \n",
      "\n",
      "    Transportation cost  \n",
      "0                   600  \n",
      "1                   500  \n",
      "2                   700  \n",
      "3                  1000  \n",
      "4                   200  \n",
      "..                  ...  \n",
      "134                2000  \n",
      "135                3000  \n",
      "136                1000  \n",
      "137                2500  \n",
      "138                2500  \n",
      "\n",
      "[139 rows x 13 columns]>\n"
     ]
    }
   ],
   "source": [
    "print(\"[Tourism Dataset Head]\")\n",
    "print(df1.head)\n",
    "print(\"------------------------------------------------------------------------------------------------------------------------------------\")\n",
    "print(\"[Travel Cost Dataset Head]\")\n",
    "print(df2.head)"
   ]
  },
  {
   "cell_type": "code",
   "execution_count": 7,
   "id": "81c99c82-06d9-42c5-a6c0-bf3de8c06e8d",
   "metadata": {},
   "outputs": [
    {
     "name": "stdout",
     "output_type": "stream",
     "text": [
      "     Trip ID Destination Start date End date  Duration (days) Traveler name  \\\n",
      "71        72         NaN        NaN      NaN              NaN           NaN   \n",
      "127      128         NaN        NaN      NaN              NaN           NaN   \n",
      "\n",
      "     Traveler age Traveler gender Traveler nationality Accommodation type  \\\n",
      "71            NaN             NaN                  NaN                NaN   \n",
      "127           NaN             NaN                  NaN                NaN   \n",
      "\n",
      "    Accommodation cost Transportation type Transportation cost  \n",
      "71                 NaN                 NaN                 NaN  \n",
      "127                NaN                 NaN                 NaN  \n"
     ]
    }
   ],
   "source": [
    "null_rows = df2[df2[\"Destination\"].isna()]\n",
    "print(null_rows)"
   ]
  },
  {
   "cell_type": "code",
   "execution_count": 8,
   "id": "097a75aa-1990-428a-a3ba-fa0196f0a94d",
   "metadata": {},
   "outputs": [
    {
     "name": "stdout",
     "output_type": "stream",
     "text": [
      "No null values remaining.\n"
     ]
    }
   ],
   "source": [
    "df2 = df2.dropna()\n",
    "\n",
    "null_rows = df2[df2[\"Destination\"].isna()]\n",
    "if null_rows.empty:\n",
    "    print(\"No null values remaining.\")\n",
    "else:\n",
    "    print(null_rows)"
   ]
  },
  {
   "cell_type": "code",
   "execution_count": 9,
   "id": "4505f933-2d0c-42d6-a6f5-d41275baa2e8",
   "metadata": {},
   "outputs": [
    {
     "name": "stdout",
     "output_type": "stream",
     "text": [
      "0                  London, UK\n",
      "1            Phuket, Thailand\n",
      "2             Bali, Indonesia\n",
      "3               New York, USA\n",
      "4                Tokyo, Japan\n",
      "                ...          \n",
      "134    Rio de Janeiro, Brazil\n",
      "135         Vancouver, Canada\n",
      "136         Bangkok, Thailand\n",
      "137          Barcelona, Spain\n",
      "138     Auckland, New Zealand\n",
      "Name: Destination, Length: 136, dtype: object\n"
     ]
    }
   ],
   "source": [
    "print(df2[\"Destination\"])"
   ]
  },
  {
   "cell_type": "code",
   "execution_count": 10,
   "id": "268bbcc5-6e66-44a7-9aad-35ea28c7f643",
   "metadata": {},
   "outputs": [],
   "source": [
    "df2[\"country\"] = df2[\"Destination\"].apply(\n",
    "    lambda x: str(x).split(\",\")[-1].strip() if isinstance(x, str) and \",\" in x else str(x).strip()\n",
    ")"
   ]
  },
  {
   "cell_type": "code",
   "execution_count": 11,
   "id": "c9aa27a4-5038-4faa-95ca-c6f28bc5dd1c",
   "metadata": {},
   "outputs": [
    {
     "name": "stdout",
     "output_type": "stream",
     "text": [
      "0               UK\n",
      "1         Thailand\n",
      "2        Indonesia\n",
      "3              USA\n",
      "4            Japan\n",
      "          ...     \n",
      "134         Brazil\n",
      "135         Canada\n",
      "136       Thailand\n",
      "137          Spain\n",
      "138    New Zealand\n",
      "Name: country, Length: 136, dtype: object\n"
     ]
    }
   ],
   "source": [
    "print(df2[\"country\"])"
   ]
  },
  {
   "cell_type": "markdown",
   "id": "8b572ee4-fc49-4801-b043-6ef4a1e442a1",
   "metadata": {},
   "source": [
    "Now that we have made the destinations more uniform, we can look at the accomodation and travel prices from travel_cost.csv.\n",
    "\n",
    "We know that the travel_cost dataset has two separate columns listing the different costs associated with different accommodation and transportation types. For the purpose of this assignment, we can just use generalized dummy data, so we will just be combining these columns to create an 'Estimated Costs' column."
   ]
  },
  {
   "cell_type": "code",
   "execution_count": 13,
   "id": "68349356-4345-4cc5-a677-d6d1f31bd898",
   "metadata": {},
   "outputs": [
    {
     "name": "stdout",
     "output_type": "stream",
     "text": [
      "0      1200\n",
      "1       800\n",
      "2      1000\n",
      "3      2000\n",
      "4       700\n",
      "       ... \n",
      "134    2500\n",
      "135    5000\n",
      "136    2000\n",
      "137    6000\n",
      "138    7000\n",
      "Name: Accommodation cost, Length: 136, dtype: object\n"
     ]
    }
   ],
   "source": [
    "print(df2[\"Accommodation cost\"])"
   ]
  },
  {
   "cell_type": "code",
   "execution_count": 14,
   "id": "791d3e49-e3ca-43f0-a1d1-20cdeab2cf2f",
   "metadata": {},
   "outputs": [
    {
     "name": "stdout",
     "output_type": "stream",
     "text": [
      "0       600\n",
      "1       500\n",
      "2       700\n",
      "3      1000\n",
      "4       200\n",
      "       ... \n",
      "134    2000\n",
      "135    3000\n",
      "136    1000\n",
      "137    2500\n",
      "138    2500\n",
      "Name: Transportation cost, Length: 136, dtype: object\n"
     ]
    }
   ],
   "source": [
    "print(df2[\"Transportation cost\"])"
   ]
  },
  {
   "cell_type": "markdown",
   "id": "76af5bb0-204b-4b5d-9325-17368c5eaa90",
   "metadata": {},
   "source": [
    "At first glance it may seem like these are all uniform values and we're all set to start working with the data..."
   ]
  },
  {
   "cell_type": "code",
   "execution_count": 16,
   "id": "3c91adea-11af-4119-bdc9-d7924d350602",
   "metadata": {},
   "outputs": [
    {
     "name": "stdout",
     "output_type": "stream",
     "text": [
      "$1,500 \n",
      "700 USD\n"
     ]
    }
   ],
   "source": [
    "print(df2[\"Accommodation cost\"][17])\n",
    "print(df2[\"Transportation cost\"][75])"
   ]
  },
  {
   "cell_type": "markdown",
   "id": "ea9c2941-6ffe-4c2f-82e7-85b5b239a0ea",
   "metadata": {},
   "source": [
    "But digging deeper into the data, you can see some of the values are listed with a \"$\" or followed by \" USD\" to specify American Dollars, as well as comma separated costs. Let's strip these to simplify the columns."
   ]
  },
  {
   "cell_type": "code",
   "execution_count": 18,
   "id": "816d8a7b-4174-4a58-a61a-6c8e3c800196",
   "metadata": {},
   "outputs": [],
   "source": [
    "df2['Accommodation cost'] = df2['Accommodation cost'].replace({r'\\$': '', ' USD': '', ',': ''}, regex=True).astype(float)\n",
    "df2['Transportation cost'] = df2['Transportation cost'].replace({r'\\$': '', ' USD': '', ',': ''}, regex=True).astype(float)"
   ]
  },
  {
   "cell_type": "code",
   "execution_count": 19,
   "id": "260739b4-ef3a-4cdf-b3ce-de963cbbaf99",
   "metadata": {},
   "outputs": [
    {
     "name": "stdout",
     "output_type": "stream",
     "text": [
      "1500.0\n",
      "700.0\n"
     ]
    }
   ],
   "source": [
    "print(df2[\"Accommodation cost\"][17])\n",
    "print(df2[\"Transportation cost\"][75])"
   ]
  },
  {
   "cell_type": "markdown",
   "id": "523f0d8e-6275-4e79-be4d-1865936c16ec",
   "metadata": {},
   "source": [
    "Now our accommodation and transportation costs are uniform, we can create our estimated cost column"
   ]
  },
  {
   "cell_type": "code",
   "execution_count": 21,
   "id": "09bf1730-bebd-4641-ba84-c0a9a7ead895",
   "metadata": {},
   "outputs": [
    {
     "name": "stdout",
     "output_type": "stream",
     "text": [
      "     Accommodation cost  Transportation cost  Estimated cost\n",
      "0                1200.0                600.0          1800.0\n",
      "1                 800.0                500.0          1300.0\n",
      "2                1000.0                700.0          1700.0\n",
      "3                2000.0               1000.0          3000.0\n",
      "4                 700.0                200.0           900.0\n",
      "..                  ...                  ...             ...\n",
      "134              2500.0               2000.0          4500.0\n",
      "135              5000.0               3000.0          8000.0\n",
      "136              2000.0               1000.0          3000.0\n",
      "137              6000.0               2500.0          8500.0\n",
      "138              7000.0               2500.0          9500.0\n",
      "\n",
      "[136 rows x 3 columns]\n"
     ]
    }
   ],
   "source": [
    "df2[\"Estimated cost\"] = df2[\"Accommodation cost\"] + df2[\"Transportation cost\"]\n",
    "\n",
    "print(df2[[\"Accommodation cost\", \"Transportation cost\", \"Estimated cost\"]])"
   ]
  },
  {
   "cell_type": "markdown",
   "id": "f8bd6cfb-e4f3-4aa4-99a1-70da721c2d53",
   "metadata": {},
   "source": [
    "Now we can merge the estimated costs to the original dataset based on country. Let's first create out function to associate the random costs with country."
   ]
  },
  {
   "cell_type": "code",
   "execution_count": 134,
   "id": "af659014-5980-4e69-a65c-e2586f00acff",
   "metadata": {},
   "outputs": [],
   "source": [
    "import random\n",
    "\n",
    "country_costs = df2.groupby(\"Destination\")[\"Estimated cost\"].apply(list).to_dict()\n",
    "\n",
    "def get_random_cost(country):\n",
    "    if country in country_costs:\n",
    "        base_cost = random.choice(country_costs[country])\n",
    "    else:\n",
    "        # avg overall cost for all trips\n",
    "        base_cost = sum([sum(vals) for vals in country_costs.values()]) / len(country_costs)\n",
    "    variance = random.uniform(-0.15, 0.15)\n",
    "    varied_cost = base_cost * (1 + variance)\n",
    "    return round(varied_cost / 50) * 50"
   ]
  },
  {
   "cell_type": "markdown",
   "id": "bac4647a-116c-4d36-89e7-29501dae057a",
   "metadata": {},
   "source": [
    "Next, let's add an \"Estimated cost\" column and apply this to our tourism dataset."
   ]
  },
  {
   "cell_type": "code",
   "execution_count": 137,
   "id": "896e954e-3342-487b-9f83-0704d3aa0cf7",
   "metadata": {},
   "outputs": [
    {
     "name": "stdout",
     "output_type": "stream",
     "text": [
      "     Country  Estimated cost\n",
      "0      India            5000\n",
      "1        USA            4400\n",
      "2     Brazil             250\n",
      "3     Brazil             200\n",
      "4     France             800\n",
      "...      ...             ...\n",
      "5984     USA            4500\n",
      "5985  France            1000\n",
      "5986   Egypt             850\n",
      "5987   Egypt             750\n",
      "5988  France            1000\n",
      "\n",
      "[5989 rows x 2 columns]\n"
     ]
    }
   ],
   "source": [
    "df1[\"Estimated cost\"] = df1[\"Country\"].apply(get_random_cost)\n",
    "\n",
    "print(df1[[\"Country\", \"Estimated cost\"]])"
   ]
  },
  {
   "cell_type": "code",
   "execution_count": 33,
   "id": "78f5428f-c4ef-4321-9fef-14ebad1fe444",
   "metadata": {},
   "outputs": [
    {
     "name": "stdout",
     "output_type": "stream",
     "text": [
      "Country\n",
      "Egypt        912\n",
      "India        896\n",
      "France       857\n",
      "USA          848\n",
      "Brazil       840\n",
      "Australia    830\n",
      "China        806\n",
      "Name: count, dtype: int64\n"
     ]
    }
   ],
   "source": [
    "print(df1[\"Country\"].value_counts())"
   ]
  },
  {
   "cell_type": "code",
   "execution_count": 88,
   "id": "a35ff476-b753-4e48-a75a-bdd466571f0e",
   "metadata": {},
   "outputs": [
    {
     "data": {
      "text/plain": [
       "Estimated cost\n",
       "1750    105\n",
       "1450    103\n",
       "1400    103\n",
       "1500     96\n",
       "1550     86\n",
       "1650     83\n",
       "1700     83\n",
       "1600     81\n",
       "1350     75\n",
       "1800     33\n",
       "Name: count, dtype: int64"
      ]
     },
     "execution_count": 88,
     "metadata": {},
     "output_type": "execute_result"
    }
   ],
   "source": [
    "df1[df1[\"Country\"] == \"USA\"][\"Estimated cost\"].value_counts()"
   ]
  },
  {
   "cell_type": "markdown",
   "id": "673adb33-fc03-4a33-bab4-3bc5d1d4c3fa",
   "metadata": {},
   "source": [
    "Next, let's add a randomly generated mode of travel and start/end date for each trip:"
   ]
  },
  {
   "cell_type": "code",
   "execution_count": 125,
   "id": "e95db5b3-dc67-48fe-b563-f13e2f1e267f",
   "metadata": {},
   "outputs": [
    {
     "data": {
      "text/html": [
       "<div>\n",
       "<style scoped>\n",
       "    .dataframe tbody tr th:only-of-type {\n",
       "        vertical-align: middle;\n",
       "    }\n",
       "\n",
       "    .dataframe tbody tr th {\n",
       "        vertical-align: top;\n",
       "    }\n",
       "\n",
       "    .dataframe thead th {\n",
       "        text-align: right;\n",
       "    }\n",
       "</style>\n",
       "<table border=\"1\" class=\"dataframe\">\n",
       "  <thead>\n",
       "    <tr style=\"text-align: right;\">\n",
       "      <th></th>\n",
       "      <th>mode_of_travel</th>\n",
       "      <th>start_date</th>\n",
       "      <th>end_date</th>\n",
       "    </tr>\n",
       "  </thead>\n",
       "  <tbody>\n",
       "    <tr>\n",
       "      <th>0</th>\n",
       "      <td>air</td>\n",
       "      <td>07-24-25</td>\n",
       "      <td>07-31-25</td>\n",
       "    </tr>\n",
       "    <tr>\n",
       "      <th>1</th>\n",
       "      <td>land</td>\n",
       "      <td>10-29-25</td>\n",
       "      <td>11-05-25</td>\n",
       "    </tr>\n",
       "    <tr>\n",
       "      <th>2</th>\n",
       "      <td>land</td>\n",
       "      <td>01-07-26</td>\n",
       "      <td>01-14-26</td>\n",
       "    </tr>\n",
       "    <tr>\n",
       "      <th>3</th>\n",
       "      <td>air</td>\n",
       "      <td>08-16-25</td>\n",
       "      <td>08-23-25</td>\n",
       "    </tr>\n",
       "    <tr>\n",
       "      <th>4</th>\n",
       "      <td>land</td>\n",
       "      <td>06-20-25</td>\n",
       "      <td>06-27-25</td>\n",
       "    </tr>\n",
       "    <tr>\n",
       "      <th>...</th>\n",
       "      <td>...</td>\n",
       "      <td>...</td>\n",
       "      <td>...</td>\n",
       "    </tr>\n",
       "    <tr>\n",
       "      <th>5984</th>\n",
       "      <td>land</td>\n",
       "      <td>09-01-25</td>\n",
       "      <td>09-08-25</td>\n",
       "    </tr>\n",
       "    <tr>\n",
       "      <th>5985</th>\n",
       "      <td>land</td>\n",
       "      <td>12-19-25</td>\n",
       "      <td>12-26-25</td>\n",
       "    </tr>\n",
       "    <tr>\n",
       "      <th>5986</th>\n",
       "      <td>air</td>\n",
       "      <td>09-06-25</td>\n",
       "      <td>09-13-25</td>\n",
       "    </tr>\n",
       "    <tr>\n",
       "      <th>5987</th>\n",
       "      <td>land</td>\n",
       "      <td>08-18-25</td>\n",
       "      <td>08-25-25</td>\n",
       "    </tr>\n",
       "    <tr>\n",
       "      <th>5988</th>\n",
       "      <td>air</td>\n",
       "      <td>01-24-26</td>\n",
       "      <td>01-31-26</td>\n",
       "    </tr>\n",
       "  </tbody>\n",
       "</table>\n",
       "<p>5989 rows × 3 columns</p>\n",
       "</div>"
      ],
      "text/plain": [
       "     mode_of_travel start_date  end_date\n",
       "0               air   07-24-25  07-31-25\n",
       "1              land   10-29-25  11-05-25\n",
       "2              land   01-07-26  01-14-26\n",
       "3               air   08-16-25  08-23-25\n",
       "4              land   06-20-25  06-27-25\n",
       "...             ...        ...       ...\n",
       "5984           land   09-01-25  09-08-25\n",
       "5985           land   12-19-25  12-26-25\n",
       "5986            air   09-06-25  09-13-25\n",
       "5987           land   08-18-25  08-25-25\n",
       "5988            air   01-24-26  01-31-26\n",
       "\n",
       "[5989 rows x 3 columns]"
      ]
     },
     "execution_count": 125,
     "metadata": {},
     "output_type": "execute_result"
    }
   ],
   "source": [
    "import datetime\n",
    "import time\n",
    "\n",
    "# randomized mode of travel\n",
    "# is there a better way to instantiate a column based on a condition in pandas?\n",
    "df1[\"mode_of_travel\"] = df1.apply(lambda _: random.choice([\"land\", \"air\"]), axis=1)\n",
    "\n",
    "# randomized date past May 2025\n",
    "# fixed trip duration of seven days\n",
    "\n",
    "# Using code for generating a random date from https://stackoverflow.com/questions/553303/how-to-generate-a-random-date-between-two-other-dates\n",
    "def random_date(start, end, time_format, prop):\n",
    "    stime = time.mktime(time.strptime(start, time_format))\n",
    "    etime = time.mktime(time.strptime(end, time_format))\n",
    "\n",
    "    ptime = stime + prop * (etime - stime)\n",
    "\n",
    "    return time.strftime(time_format, time.localtime(ptime))\n",
    "\n",
    "df1[\"start_date\"] = df1.apply(lambda _: random_date(\"5-1-25\", \"5-1-26\", '%m-%d-%y', random.random()), axis=1)\n",
    "\n",
    "# References: https://stackoverflow.com/questions/2803852/python-date-string-to-date-object\n",
    "# https://docs.python.org/3/library/time.html\n",
    "df1[\"end_date\"] = df1[\"start_date\"].apply(lambda start: (datetime.datetime.strptime(start, '%m-%d-%y') + datetime.timedelta(days=7)).strftime('%m-%d-%y'))\n",
    "\n",
    "df1[[\"mode_of_travel\", \"start_date\", \"end_date\"]]"
   ]
  },
  {
   "cell_type": "code",
   "execution_count": 127,
   "id": "0cb4e503-b9af-4e74-b877-fd1f31249494",
   "metadata": {},
   "outputs": [
    {
     "data": {
      "text/html": [
       "<div>\n",
       "<style scoped>\n",
       "    .dataframe tbody tr th:only-of-type {\n",
       "        vertical-align: middle;\n",
       "    }\n",
       "\n",
       "    .dataframe tbody tr th {\n",
       "        vertical-align: top;\n",
       "    }\n",
       "\n",
       "    .dataframe thead th {\n",
       "        text-align: right;\n",
       "    }\n",
       "</style>\n",
       "<table border=\"1\" class=\"dataframe\">\n",
       "  <thead>\n",
       "    <tr style=\"text-align: right;\">\n",
       "      <th></th>\n",
       "      <th>Location</th>\n",
       "      <th>Country</th>\n",
       "      <th>Category</th>\n",
       "      <th>Visitors</th>\n",
       "      <th>Rating</th>\n",
       "      <th>Revenue</th>\n",
       "      <th>Accommodation_Available</th>\n",
       "      <th>Estimated cost</th>\n",
       "      <th>mode_of_travel</th>\n",
       "      <th>start_date</th>\n",
       "      <th>end_date</th>\n",
       "    </tr>\n",
       "  </thead>\n",
       "  <tbody>\n",
       "    <tr>\n",
       "      <th>0</th>\n",
       "      <td>kuBZRkVsAR</td>\n",
       "      <td>India</td>\n",
       "      <td>Nature</td>\n",
       "      <td>948853</td>\n",
       "      <td>1.32</td>\n",
       "      <td>84388.38</td>\n",
       "      <td>Yes</td>\n",
       "      <td>1350</td>\n",
       "      <td>air</td>\n",
       "      <td>07-24-25</td>\n",
       "      <td>07-31-25</td>\n",
       "    </tr>\n",
       "    <tr>\n",
       "      <th>1</th>\n",
       "      <td>aHKUXhjzTo</td>\n",
       "      <td>USA</td>\n",
       "      <td>Historical</td>\n",
       "      <td>813627</td>\n",
       "      <td>2.01</td>\n",
       "      <td>802625.60</td>\n",
       "      <td>No</td>\n",
       "      <td>1450</td>\n",
       "      <td>land</td>\n",
       "      <td>10-29-25</td>\n",
       "      <td>11-05-25</td>\n",
       "    </tr>\n",
       "    <tr>\n",
       "      <th>2</th>\n",
       "      <td>dlrdYtJFTA</td>\n",
       "      <td>Brazil</td>\n",
       "      <td>Nature</td>\n",
       "      <td>508673</td>\n",
       "      <td>1.42</td>\n",
       "      <td>338777.11</td>\n",
       "      <td>Yes</td>\n",
       "      <td>200</td>\n",
       "      <td>land</td>\n",
       "      <td>01-07-26</td>\n",
       "      <td>01-14-26</td>\n",
       "    </tr>\n",
       "    <tr>\n",
       "      <th>3</th>\n",
       "      <td>DxmlzdGkHK</td>\n",
       "      <td>Brazil</td>\n",
       "      <td>Historical</td>\n",
       "      <td>623329</td>\n",
       "      <td>1.09</td>\n",
       "      <td>295183.60</td>\n",
       "      <td>Yes</td>\n",
       "      <td>200</td>\n",
       "      <td>air</td>\n",
       "      <td>08-16-25</td>\n",
       "      <td>08-23-25</td>\n",
       "    </tr>\n",
       "    <tr>\n",
       "      <th>4</th>\n",
       "      <td>WJCCQlepnz</td>\n",
       "      <td>France</td>\n",
       "      <td>Cultural</td>\n",
       "      <td>124867</td>\n",
       "      <td>1.43</td>\n",
       "      <td>547893.24</td>\n",
       "      <td>No</td>\n",
       "      <td>800</td>\n",
       "      <td>land</td>\n",
       "      <td>06-20-25</td>\n",
       "      <td>06-27-25</td>\n",
       "    </tr>\n",
       "    <tr>\n",
       "      <th>...</th>\n",
       "      <td>...</td>\n",
       "      <td>...</td>\n",
       "      <td>...</td>\n",
       "      <td>...</td>\n",
       "      <td>...</td>\n",
       "      <td>...</td>\n",
       "      <td>...</td>\n",
       "      <td>...</td>\n",
       "      <td>...</td>\n",
       "      <td>...</td>\n",
       "      <td>...</td>\n",
       "    </tr>\n",
       "    <tr>\n",
       "      <th>5984</th>\n",
       "      <td>xAzwnVKAqz</td>\n",
       "      <td>USA</td>\n",
       "      <td>Urban</td>\n",
       "      <td>828137</td>\n",
       "      <td>1.97</td>\n",
       "      <td>132848.78</td>\n",
       "      <td>No</td>\n",
       "      <td>1700</td>\n",
       "      <td>land</td>\n",
       "      <td>09-01-25</td>\n",
       "      <td>09-08-25</td>\n",
       "    </tr>\n",
       "    <tr>\n",
       "      <th>5985</th>\n",
       "      <td>IfKotyaJFC</td>\n",
       "      <td>France</td>\n",
       "      <td>Nature</td>\n",
       "      <td>276317</td>\n",
       "      <td>3.53</td>\n",
       "      <td>325183.96</td>\n",
       "      <td>Yes</td>\n",
       "      <td>900</td>\n",
       "      <td>land</td>\n",
       "      <td>12-19-25</td>\n",
       "      <td>12-26-25</td>\n",
       "    </tr>\n",
       "    <tr>\n",
       "      <th>5986</th>\n",
       "      <td>bPyubCWGgA</td>\n",
       "      <td>Egypt</td>\n",
       "      <td>Beach</td>\n",
       "      <td>809198</td>\n",
       "      <td>3.37</td>\n",
       "      <td>927336.50</td>\n",
       "      <td>No</td>\n",
       "      <td>700</td>\n",
       "      <td>air</td>\n",
       "      <td>09-06-25</td>\n",
       "      <td>09-13-25</td>\n",
       "    </tr>\n",
       "    <tr>\n",
       "      <th>5987</th>\n",
       "      <td>kkWIucpBnu</td>\n",
       "      <td>Egypt</td>\n",
       "      <td>Cultural</td>\n",
       "      <td>808303</td>\n",
       "      <td>2.52</td>\n",
       "      <td>115791.43</td>\n",
       "      <td>Yes</td>\n",
       "      <td>700</td>\n",
       "      <td>land</td>\n",
       "      <td>08-18-25</td>\n",
       "      <td>08-25-25</td>\n",
       "    </tr>\n",
       "    <tr>\n",
       "      <th>5988</th>\n",
       "      <td>gHXUrdticm</td>\n",
       "      <td>France</td>\n",
       "      <td>Cultural</td>\n",
       "      <td>40939</td>\n",
       "      <td>4.65</td>\n",
       "      <td>957026.85</td>\n",
       "      <td>Yes</td>\n",
       "      <td>950</td>\n",
       "      <td>air</td>\n",
       "      <td>01-24-26</td>\n",
       "      <td>01-31-26</td>\n",
       "    </tr>\n",
       "  </tbody>\n",
       "</table>\n",
       "<p>5989 rows × 11 columns</p>\n",
       "</div>"
      ],
      "text/plain": [
       "        Location Country    Category  Visitors  Rating    Revenue  \\\n",
       "0     kuBZRkVsAR   India      Nature    948853    1.32   84388.38   \n",
       "1     aHKUXhjzTo     USA  Historical    813627    2.01  802625.60   \n",
       "2     dlrdYtJFTA  Brazil      Nature    508673    1.42  338777.11   \n",
       "3     DxmlzdGkHK  Brazil  Historical    623329    1.09  295183.60   \n",
       "4     WJCCQlepnz  France    Cultural    124867    1.43  547893.24   \n",
       "...          ...     ...         ...       ...     ...        ...   \n",
       "5984  xAzwnVKAqz     USA       Urban    828137    1.97  132848.78   \n",
       "5985  IfKotyaJFC  France      Nature    276317    3.53  325183.96   \n",
       "5986  bPyubCWGgA   Egypt       Beach    809198    3.37  927336.50   \n",
       "5987  kkWIucpBnu   Egypt    Cultural    808303    2.52  115791.43   \n",
       "5988  gHXUrdticm  France    Cultural     40939    4.65  957026.85   \n",
       "\n",
       "     Accommodation_Available  Estimated cost mode_of_travel start_date  \\\n",
       "0                        Yes            1350            air   07-24-25   \n",
       "1                         No            1450           land   10-29-25   \n",
       "2                        Yes             200           land   01-07-26   \n",
       "3                        Yes             200            air   08-16-25   \n",
       "4                         No             800           land   06-20-25   \n",
       "...                      ...             ...            ...        ...   \n",
       "5984                      No            1700           land   09-01-25   \n",
       "5985                     Yes             900           land   12-19-25   \n",
       "5986                      No             700            air   09-06-25   \n",
       "5987                     Yes             700           land   08-18-25   \n",
       "5988                     Yes             950            air   01-24-26   \n",
       "\n",
       "      end_date  \n",
       "0     07-31-25  \n",
       "1     11-05-25  \n",
       "2     01-14-26  \n",
       "3     08-23-25  \n",
       "4     06-27-25  \n",
       "...        ...  \n",
       "5984  09-08-25  \n",
       "5985  12-26-25  \n",
       "5986  09-13-25  \n",
       "5987  08-25-25  \n",
       "5988  01-31-26  \n",
       "\n",
       "[5989 rows x 11 columns]"
      ]
     },
     "execution_count": 127,
     "metadata": {},
     "output_type": "execute_result"
    }
   ],
   "source": [
    "df1"
   ]
  },
  {
   "cell_type": "code",
   "execution_count": null,
   "id": "84f8e233-a23f-4ba7-8348-cb0361f8b111",
   "metadata": {},
   "outputs": [],
   "source": []
  },
  {
   "cell_type": "code",
   "execution_count": null,
   "id": "1d7527ff-9cee-4788-8819-1dbd1227cac9",
   "metadata": {},
   "outputs": [],
   "source": []
  }
 ],
 "metadata": {
  "kernelspec": {
   "display_name": "Python 3 (ipykernel)",
   "language": "python",
   "name": "python3"
  },
  "language_info": {
   "codemirror_mode": {
    "name": "ipython",
    "version": 3
   },
   "file_extension": ".py",
   "mimetype": "text/x-python",
   "name": "python",
   "nbconvert_exporter": "python",
   "pygments_lexer": "ipython3",
   "version": "3.12.7"
  }
 },
 "nbformat": 4,
 "nbformat_minor": 5
}
